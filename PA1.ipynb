{
 "cells": [
  {
   "cell_type": "markdown",
   "id": "452a2e05",
   "metadata": {},
   "source": [
    "# 2023SP Computer Prog for Liberal Arts (CS-150-01)"
   ]
  },
  {
   "cell_type": "markdown",
   "id": "b2f16a00",
   "metadata": {},
   "source": [
    "## Getting Started with Markdown"
   ]
  },
  {
   "cell_type": "markdown",
   "id": "6bc5f403",
   "metadata": {},
   "source": [
    "## Assignment 1 - Shealyn Arthur\n",
    "### Version 1"
   ]
  },
  {
   "cell_type": "markdown",
   "id": "043eb49f",
   "metadata": {},
   "source": [
    ">Python Crash Course"
   ]
  },
  {
   "cell_type": "markdown",
   "id": "9e4bc553",
   "metadata": {},
   "source": [
    "* Course Introduction\n",
    "* Variables and Simple Data Types\n",
    "* Introducing Lists, Tuples\n",
    "* if Statements\n",
    "* Dictionaries\n",
    "* Loops\n",
    "* Functions\n",
    "* Classes\n",
    "* Numpy"
   ]
  },
  {
   "cell_type": "markdown",
   "id": "4eb163b2",
   "metadata": {},
   "source": [
    "1. Assignment 1\n",
    "2. Assignment 2\n",
    "3. Assignment 3\n",
    "4. Assignment 4\n",
    "5. Assignment 5\n",
    "6. Assignment 6\n",
    "7. Assignment 7"
   ]
  },
  {
   "cell_type": "markdown",
   "id": "8cccfe14",
   "metadata": {},
   "source": [
    "**This course will be done in Python**"
   ]
  },
  {
   "cell_type": "markdown",
   "id": "efce0ad3",
   "metadata": {},
   "source": [
    "*This course will be done in Python*"
   ]
  },
  {
   "cell_type": "markdown",
   "id": "973d6c3a",
   "metadata": {},
   "source": [
    "This course will be done in `Python`"
   ]
  },
  {
   "cell_type": "markdown",
   "id": "97aa4234",
   "metadata": {},
   "source": [
    "`Github` can be found at\n",
    "<a href=\"https://github.com/sheaarthur\">this link</a>"
   ]
  },
  {
   "cell_type": "markdown",
   "id": "e212b1ad",
   "metadata": {},
   "source": [
    "![Python Logo](https://th.bing.com/th/id/R.5dfb76a33c97ab85fbeef356eac5d561?rik=aWAjKqTU3D6ZNg&riu=http%3a%2f%2fwww.bellarmine.edu%2fimages%2fnews%2fShield_BellarmineU_Vertical_InVeritatis.jpg&ehk=3q4qTF2tIZxIcdv%2boPq7DTONNpBPdsfK1dkMYH7oLgs%3d&risl=&pid=ImgRaw&r=0)"
   ]
  },
  {
   "cell_type": "code",
   "execution_count": null,
   "id": "8d7d0b3f",
   "metadata": {},
   "outputs": [],
   "source": []
  }
 ],
 "metadata": {
  "kernelspec": {
   "display_name": "Python 3 (ipykernel)",
   "language": "python",
   "name": "python3"
  },
  "language_info": {
   "codemirror_mode": {
    "name": "ipython",
    "version": 3
   },
   "file_extension": ".py",
   "mimetype": "text/x-python",
   "name": "python",
   "nbconvert_exporter": "python",
   "pygments_lexer": "ipython3",
   "version": "3.9.13"
  }
 },
 "nbformat": 4,
 "nbformat_minor": 5
}
